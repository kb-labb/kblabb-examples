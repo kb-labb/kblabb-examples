{
 "cells": [
  {
   "cell_type": "markdown",
   "metadata": {},
   "source": [
    "# Extracting data from KB-labb's API\n",
    "This script shows an example of extracting text from KB-labb's API and saving it into XML files with some metadata."
   ]
  },
  {
   "cell_type": "code",
   "execution_count": null,
   "metadata": {},
   "outputs": [],
   "source": [
    "from kblab import Archive\n",
    "from json import load\n",
    "import re\n",
    "import xml.etree.ElementTree as ET\n",
    "from xml.dom import minidom"
   ]
  },
  {
   "cell_type": "code",
   "execution_count": null,
   "metadata": {},
   "outputs": [],
   "source": [
    "a = Archive('https://betalab.kb.se/', auth=('username', 'password'))"
   ]
  },
  {
   "cell_type": "code",
   "execution_count": null,
   "metadata": {},
   "outputs": [],
   "source": [
    "for package_id in a.search({'label: \"GÖTEBORGSPOSTEN\", \"meta.created\":2018'}):\n",
    "    \n",
    "    p = a.get(package_id)\n",
    "    meta = load(p.get_raw('meta.json'))\n",
    "    \n",
    "    title = re.search(r\"\\D+(?= \\d)\", meta[\"title\"]).group()\n",
    "    date = re.search(r\"(?<=\\D )[\\d-]+\", meta[\"title\"]).group()\n",
    "    \n",
    "    root = ET.Element('document')\n",
    "    child1 = ET.SubElement(root, 'text', attrib={'title':title, 'date':date})\n",
    "    \n",
    "    prev_page = \"1\"\n",
    "    text = ''\n",
    "     \n",
    "    for part in load(p.get_raw('content.json')):\n",
    "        part_id = part.get('@id', '')\n",
    "        page_nr = re.search(r\"(?<=#[0-9]-)[0-9]{1,2}\", part_id).group()\n",
    "        if prev_page == page_nr:\n",
    "            text = text + ' ' + (part.get('content', ''))\n",
    "        else:\n",
    "            child1_1 = ET.SubElement(child1, 'page', attrib={'nr':prev_page})\n",
    "            child1_1.text = text\n",
    "            text = (part.get('content', ''))\n",
    "            prev_page = page_nr\n",
    "            \n",
    "    t = minidom.parseString(ET.tostring(root)).toprettyxml()\n",
    "    \n",
    "    with open(f\"newspaper_corpora/göteborgsposten_2018/source/{package_id}.xml\", \"w\") as f:\n",
    "        f.write(t)"
   ]
  },
  {
   "cell_type": "code",
   "execution_count": null,
   "metadata": {},
   "outputs": [],
   "source": []
  }
 ],
 "metadata": {
  "kernelspec": {
   "display_name": "Python 3",
   "language": "python",
   "name": "python3"
  },
  "language_info": {
   "codemirror_mode": {
    "name": "ipython",
    "version": 3
   },
   "file_extension": ".py",
   "mimetype": "text/x-python",
   "name": "python",
   "nbconvert_exporter": "python",
   "pygments_lexer": "ipython3",
   "version": "3.8.10"
  }
 },
 "nbformat": 4,
 "nbformat_minor": 4
}
