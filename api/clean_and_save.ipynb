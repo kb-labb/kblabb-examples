{
 "cells": [
  {
   "cell_type": "markdown",
   "metadata": {},
   "source": [
    "# Text cleaning heuristics\n",
    "This script shows how to clean the newspaper corpus very conservatively. Nothing is done to correct OCR mistakes, we only aim to remove obvious OCR noise and text that is not in Swedish."
   ]
  },
  {
   "cell_type": "code",
   "execution_count": 1,
   "metadata": {},
   "outputs": [],
   "source": [
    "import re\n",
    "import fasttext"
   ]
  },
  {
   "cell_type": "markdown",
   "metadata": {},
   "source": [
    "The input file is text file with empty lines between documents."
   ]
  },
  {
   "cell_type": "code",
   "execution_count": 2,
   "metadata": {},
   "outputs": [],
   "source": [
    "with open('/data/corpus-v2/small_news.txt') as f:\n",
    "    contents = f.read()\n",
    "\n",
    "docs = contents.split('\\n\\n')"
   ]
  },
  {
   "cell_type": "markdown",
   "metadata": {},
   "source": [
    "We use the [fasttext language identification model](https://fasttext.cc/docs/en/language-identification.html) in order to tell whether a document is in Swedish or not. "
   ]
  },
  {
   "cell_type": "code",
   "execution_count": 3,
   "metadata": {},
   "outputs": [
    {
     "name": "stderr",
     "output_type": "stream",
     "text": [
      "Warning : `load_model` does not return WordVectorModel or SupervisedModel any more, but a `FastText` object which is very similar.\n"
     ]
    }
   ],
   "source": [
    "model_path = \"/home/elena/Workspace/news/lid.176.bin\"\n",
    "model = fasttext.load_model(model_path)"
   ]
  },
  {
   "cell_type": "code",
   "execution_count": 4,
   "metadata": {},
   "outputs": [],
   "source": [
    "def lang_id(doc):\n",
    "    text = doc.replace(\"\\n\", \" \")\n",
    "    lang = model.predict(text)[0][0]\n",
    "    if \"sv\" not in lang:\n",
    "        return False\n",
    "    else:\n",
    "        return True"
   ]
  },
  {
   "cell_type": "markdown",
   "metadata": {},
   "source": [
    "We count the numbers, letters, spaces and punctuation in the text. Numbers and punctuation (\"other\") we consider as junk, i.e. not text, and if the ratio of junk to letters is higher than a certain threshold (in this case 0.5) we consider the text as waste."
   ]
  },
  {
   "cell_type": "code",
   "execution_count": 5,
   "metadata": {},
   "outputs": [],
   "source": [
    "def count_char(doc):\n",
    "    numbers = 0\n",
    "    letters = 0\n",
    "    spaces = 0\n",
    "    other = 0\n",
    "    for c in doc:\n",
    "        if c.isalpha():\n",
    "            letters += 1\n",
    "        elif c.isdigit():\n",
    "            numbers += 1\n",
    "        elif c.isspace():\n",
    "            spaces += 1\n",
    "        else:\n",
    "            other += 1\n",
    "    return numbers, letters, spaces, other"
   ]
  },
  {
   "cell_type": "code",
   "execution_count": 6,
   "metadata": {},
   "outputs": [],
   "source": [
    "def letter_ratio(doc):\n",
    "    numbers, letters, spaces, other = count_char(doc)\n",
    "    try:\n",
    "        junk = numbers+other\n",
    "        if junk/letters > 0.5:\n",
    "            return False\n",
    "        else:\n",
    "            return True\n",
    "    except ZeroDivisionError:\n",
    "        return False"
   ]
  },
  {
   "cell_type": "markdown",
   "metadata": {},
   "source": [
    "We substitute sequences of punctuation marks and spaces that are longer than 3 characters with only the first occurrence."
   ]
  },
  {
   "cell_type": "code",
   "execution_count": 7,
   "metadata": {},
   "outputs": [],
   "source": [
    "def reduce_punct(doc):\n",
    "    doc = re.sub(r'([^a-zA-Z0-9\\s] ?){3,}', r'\\g<1>', doc)\n",
    "    return doc"
   ]
  },
  {
   "cell_type": "markdown",
   "metadata": {},
   "source": [
    "The following function deals with repeated characters. We make a distinction between OCR material and natively digital material. For the OCR material, repetitions are likely to be OCR mistakes since newspapers and other publications rarely contain colloquial language. In this case we simply remove the sequence of repeated characters. For digital material, expecially social media text, repetitions can be intentional as a feature of informal language, for example \"sååååååå kul!\", so we don't delete the whole sequence and we substitute it with only one occurrence instead."
   ]
  },
  {
   "cell_type": "code",
   "execution_count": 8,
   "metadata": {},
   "outputs": [],
   "source": [
    "def reduce_seq(doc, ocr):\n",
    "    if ocr == True:\n",
    "        doc = re.sub(r'([a-zA-ZäöåÅÖÄ])\\1{3,}', '', doc)\n",
    "    else:\n",
    "        doc = re.sub(r'([a-zA-ZäöåÅÖÄ])\\1{3,}', r'\\g<1>', doc)\n",
    "    return doc"
   ]
  },
  {
   "cell_type": "code",
   "execution_count": 9,
   "metadata": {},
   "outputs": [],
   "source": [
    "clean_docs = []\n",
    "waste = []\n",
    "\n",
    "for doc in docs:\n",
    "    if lang_id(doc) and letter_ratio(doc):\n",
    "        doc = reduce_punct(doc)\n",
    "        doc = reduce_seq(doc, True)\n",
    "        clean_docs.append(doc)\n",
    "    else:\n",
    "        waste.append(doc)"
   ]
  },
  {
   "cell_type": "markdown",
   "metadata": {},
   "source": [
    "This is an example of the kind of documents that are removed with this heuristics. Definitely looks like crap!"
   ]
  },
  {
   "cell_type": "code",
   "execution_count": 11,
   "metadata": {},
   "outputs": [
    {
     "data": {
      "text/plain": [
       "['Ring 08 / 5015 60 för annonser under denna rubrik lllll !\\nllll !\\nllllllll !\\nllll !\\nllilll !\\nllilllillliill ] l !\\nlll !',\n",
       " 'T « rp ?\\nv5t » r : « \\' s sknrtter it C & s ?\\nt » tfof ÄftsaMwSeö och FolUpdi . ita8 \" Vi 3 » ia « !\\nt opp int dst togs för IV 2 : » teta « 9ia : t HflM * s - ttlckoma t « f ?',\n",
       " \"Genoasen unc CcnowintiPn iJic ii He » ! ulw & gt ; n i !\\nif Soel - irt « l » r Uf » I Hel Ku .\\nWf dri I * n . ciA « 1 . t ur .\\nK » t . ti - r tVaUl » & gt ; U . U ' fl litftf Cf . t .\",\n",
       " \"lll | ll !\\nllli !\\nIIIIIIIIIIIHUII ' llinillllli !\\nii !\",\n",
       " 'HII !\\nl !\\nli !\\ni !\\nl !',\n",
       " \"COMANCHE MOON ( DE ) h 6 år Joakim Lövgren : 4 U 14 . 1m 890 . 621 Löv Jo J 21 / 11 - 9 9 / 2140 d Ilag ti 18 , 68 70 ' 18 : 17 3 - 3 - 4 Löv Jo A 5 / 12 - 9 11 / 2140 3 14 , 0a cc 14 , 10 125 ' ia . n n _ n _ n - - - - * , 19 : 0 .\\nDe här tvä utgör ett bra lås .\\nSer ut som att det är de två som gör upp om det .\\nOm ingen annan kan överraska ?\",\n",
       " 'Strukna , V5 - 1 : nr 2 och 5 .\\nV5 - 2 : nr 8 och 12 .\\nV5 - 3 : nr 5 , 6 och 10 .\\nV5 - 4 : nr 7 .\\nV5 - 5 : nr 4 .',\n",
       " \"8 13 , 3ak 381 JOO HOs G 1 / 11 - 7 6 / 2140 7 15 , 9 00 6 , 80 Aldit S 14 / 11 - 7 9 / 1640 6 13 , 3a 00 82 , 36 19 : 0 0 - 0 - 0 Aldit S 18 / 12 - 5 9 / 2140 0 15 , 3a c c 51 , 93 För svårt läge för att zara ett segerbud 08 / 08 VS : 7 % ( 2 / 29 ) VD : 7tt & gt ; ( 2 / 27 ) VL 0 % ( 0 / 2 ) GL 0 % Gift10 % TL 0 % HILLCREST PLAYER .\\n08 / 10 VS : 18 % ( 2 / 11 ) VD : 0 % ( 1 / 10 ) VL20 % ( 1 / 5 ) GL0 % Glft . 0 % TL0 % HOSSIANA BÖKÖ s !\\nér Jörgen Westholm U13 , 0ak 532 . 900 WsJöS 31 / 10 - 7 7 / 2140 0 14 , 5a 00 17 , 52 WSJÖF 18 / 11 - 11 1 / 2140 113 , 7a 00 2 , 41 19 : 0 0 - 0 - 0 Ws JÖ Ro 30 / 11 - 8 10 / 1640 2 14 , 1a 00 4 . 75 Bra för klassen , full firm , värst emot trots spåret ?\\n08 / 11 VS : 7 % ( 3 / 42 ) VD : 6b ( 2 / 33 ) VL25 % ( 2 / 8 ) GL0 % Glft . 0 % TLO % ENSEMBLE AM s 5 år Erik Adielsson ( Joh SH ) : 12 _ _ 12 . 3ak 491200 A . Er S 6 / 11 - 6 6 / 2140 2 13Ja C0 27 . 45 70 ' 12 : - Klöf S 21 / 11 - 8 10 / 2140 0 14 , 7a C0 17 . 54 60 ' 19 : 0 0 - 0 - 0 Kajo S 4 / 12 - 8 6 / 1640n 0 14 , 8a c C 26 , 68 60 ' Rn häst , inte som båt i senaste starterna , för svårt läge ?\\n08 / 12 VS : 35 % ( 7 / 20 ) VD : 8 % ( 3 / 8 ) VL0 % ( 0 / 0 ) GLO % Gift 10 % TL0 % Rankning : 1 - 11 - 2 - 9 - 5 - 7 - 4 - 12 - 6 - 3 - 10 - 8 .\\nKommentar : Chaiter N . Deo har höjt sig en klass eller två på slutet , insatsn efter galopp näst senast samt segern från dödens senast har imponerat på oss .\\nVi är osäkra på om hon kan hålla ledningen den här gången , även om hon kan öppna , men i den formen hon är nu tror vi att hon löser detta ändå om kusken bara ser till att hitta ut .\\nBakom hennes känns det öppet , ner till Ensemble Am om hon skulle visa form igen ?\",\n",
       " 'Svensk dramaserie från 1992 .\\nDel 13 av 18 .\\n4 . 45 Sverige idag [ 8467565 ] ( R ) 5 . 15 - 6 . 00 Gokväll [ 2301403 ] ( T ) ( R ) Magasin .\\nDel 2 av 70 .\\nÄven 10 / 1 .',\n",
       " 'Svenskt porträtt från 2018 .\\nÄven 11 / 1 .\\n2 . 15 Hemma igen [ 5363652 ] ( R ) Australisk dramaserie från 2015 .\\nDel 3 av 10 .',\n",
       " 'Svensk livsstilsserie från 2016 .\\nDel 7 av 14 .\\nÄven 10 / 1 .\\n17 . 00 Tunnelbanan [ 672151 ] ( R ) Svensk realityserie från 2016 .\\nDel 2 av 15 .\\nÄven 9 / 1 .',\n",
       " '7 . 55 - 8 . 55 Hela England bakar [ 90841793 ] ( R ) 11 . 00 Halv åtta hos mig : England [ 7278557 ] ( R ) 12 . 00 Mannen som talar med hundar [ 7272373 ] ( R ) 13 . 00 Dr Phil [ 7258793 ] ( R ) 14 . 00 Mord och inga visor [ 7269809 ] ( R ) 15 . 00 Judge Rinder [ 1146847 ] ( R ) 16 . 00 Det okända [ 1117335 ] ( R ) Svensk dokumentärserie från 2017 .\\nDel 10 av 10 .\\n17 . 00 Det okända [ 1126083 ] ( R ) Svensk dokumentärserie från 2018 .\\nDel 1 av 12 .\\n18 . 00 Glamour [ 7809118 ] Amerikansk dramaserie från 2018 .\\nDel 52 - 53 av 250 .\\n19 . 00 Or Phil [ 9291731 ] ( R ) Amerikansk pratshow från 2017 .\\nDel 103 av 174 .\\n20 . 00 Dr Mikael & Tilde [ 9297915 ] Svenskt aktualitetsprogram från 2016 .\\nDel 2 av 5 .\\nDet är många som vill gå ner lite i vikt - speciellt efter sommaren .\\n21 . 00 Hela kändis - Sverige bakar [ 1784915 ] ( R ) Svensk matlagningsserie från 2018 .\\nDel 3 av 5 .\\n22 . 00 Maria Wern [ 1780199 ] Svensk kriminaldramaserie från 2010 .\\nDel 3 av 4 .\\nAdvokaten Clarence Haag anmäls försvunnen av sin sambo .\\nMaria Wern undersöker fallet och upptäcker att Clarence blivit hotad till livet .\\n23 . 00 Kommissarie Morse [ 48774915 ] ( R ) Brittisk kriminalserie från 1991 . Del lav5 .',\n",
       " '6 . 00 dose up ( R ) Amerikanskt porträtt från 2014 .\\nDel 14 - 15 av 44 . [\\n32297151 ] [ 28237903 ] 7 . 00 Parenthood ( R ) Dramakomediserie från 2013 .\\nDel 4 - 9 av 22 . [\\n16817248 ] [ 32480460 ] [ 75981151 ] [ 52541828 ] [ 53709644 ] [ 60096354 ] 11 . 15 dose up ( R ) Amerikansk porträttserie från 2014 .\\nDel 2 av 60 . [\\n90007248 ] 11 . 40 dose up ( R ) Amerikanskt porträtt från 2014 .\\nDel 8 av 44 . [\\n90021828 ] 12 . 05 Parenthood ( R ) Dramakomediserie från 2013 .\\nDel 4 - 9 av 22 . [\\n10014719 ] [ 68771847 ] [ 94921557 ] [ 26926606 ] [ 26921151 ] [ 37049575 ] 16 . 20 dose up ( R ) Amerikanskt porträtt från 2014 .\\nDel 10 av 44 . [\\n69173170 ] 16 . 45 Parenthood ( R ) Dramakomediserie från 2013 .\\nDel 4 - 9 av 22 .\\nAdam är obekväm med Kristinas valkampanj .\\nSarah och Amber försöker prata med varandra om bröllopet . [\\n31443170 ] [ 93121422 ] [ 65939335 ] [ 57538809 ] [ 27846489 ] [ 67069267 ] 21 . 00 Tin star ( R ) Brittisk kriminalserie från 2017 .\\nDel 9 av 10 .\\nFortunate boy .\\nI detta extraordinära avsnitt går vi tillbaka tio år i tiden .\\nPå europeisk mark möter vi Jack , under täckmantel och på höjden av sitt missbruk . [\\n60580118 ] 21 . 45 The little drummer girl ( R ) Thrillerserie från 2018 .\\nDel 5 - 6 av 8 .\\nBecker visar Charlie hur man hanterar ett vapen i väntan på att Michels nätverk ska söka kontakt . [\\n16621170 ] [ 85756880 ] 23 . 15 Wentworth ( R ) Australisk dramaserie från 2018 .\\nDel 7 - 9 av 12 . [\\n52578118 ] [ 89961229 ] [ 37141364 ] 1 . 35 Wrong nian ( R ) Amerikansk dokumentärserie från 2018 .\\nDel 1 - 3 av 6 . [\\n52890300 ] [ 11622768 ] [ 60713749 ] 4 . 15 dose up ( R ) Amerikansk porträttserie från 2014 .\\nDel 43 och 60 av 60 . [\\n31534861 ] [ 91357395 ] 5 . 15 - 6 . 10 dose up ( R ) Amerikanskt porträtt från 2014 .',\n",
       " '05 . 45Nyhetsmorgon [ 89559300 ] 10 . 00 Dr Phil [ 2773590 ] [ 43817497 ( R ) . ( R ) .\\n12 . 00 Hem till gården [ 624045 ] [ 994836 ] 13 . 00 Doktorn kan komma [ 427749 ] ( R ) 14 . 00 En plats i solen - borta eller hemma häst ? [\\n421565 ] 15 . 00 Fixer upper [ 881923 ] ( R ) 16 . 00 Fabriken inifrån [ 892039 ] ( R ) Brittisk dokumentärserie från 2016 .\\nDel 1 av 6 .',\n",
       " '16 . 00 Sofias änglar [ 168584 ] Svensk livsstilsserie från 2016 .\\nDel 8 av 14 .\\n17 . 00 Tunnelbanan [ 240132 ] ( R ) Svensk realityserie från 2016 .\\nDel 3 av 15 .',\n",
       " \"C More Series C MORE SERIES6 . 10 dose up ( R ) Amerikanskt porträtt från 2014 .\\nDel 18 - 19 av 44 . [\\n93077120 ] [ 69127768 ] 7 . 10 Parenthood ( R ) Dramakomediserie från 2013 .\\nDel 10 - 15 av 22 . [\\n32371768 ] [ 32456403 ] [ 39411687 ] [ 29237861 ] [ 53773229 ] [ 21974107 ] 11 . 20 dose up ( R ) Amerikansk porträttserie från 2014 .\\nDel 3 av 60 . [\\n24062855 ] 11 . 45 dose up ( R ) Amerikanskt porträtt från 2014 .\\nDel 12 av 44 . [\\n12430010 ] 12 . 15 Parenthood ( R ) Dramakomediserie från 2013 .\\nDel 10 - 15 av 22 . [\\n47063869 ] [ 42013364 ] [ 94445768 ] [ 70823316 ] [ 11930768 ] [ 60677188 ] 16 . 25 dose up ( R ) Amerikanskt porträtt från 2014 .\\nDel 14 av 44 . [\\n69074855 ] 16 . 50 Parenthood ( R ) Dramakomediserie från 2013 .\\nDel 10 - 15 av 22 . [\\n40197958 ] [ 93025294 ] [ 57519774 ] [ 33586749 ] [ 27806861 ] [ 67963039 ] 21 . 00 Channel zero : The dream door ( R ) Skräckserie från 2018 .\\nDel 1 av6 . Ashes on mypillow .\\nParet Jill och Tom inleder sitt liv som nygifta med att ta över Toms gamla barndomshem . [\\n60549861 ] 21 . 40 The little drummer girl ( R ) Th ' hrilierserie från 2018 .\\nDel 7 - 8 av 8 .\\nEn nyckelroll i Khalils senaste plan står på spel .\\nCharlie kommer allt närmare palestinierna och meddelar att hon är redo att kriga . [\\n16608229 ] [ 36558942 ] 23 . 10 Wentworth ( R ) Australisk dramaserie från 2018 .\\nDel 10 - 12 av 12 .\\nMarie inser att Liz kan ha bevittnat attacken på Cherry Li och försöker att skydda henne från Drago . [\\n52546519 ] [ 54180478 ] [ 68296053 ] 1 . 30 Wrong nian ( R ) Amerikansk dokumentärserie från 2018 .\\nDel 4 - 6 av 6 . [\\n88125922 ] [ 11690169 ] [ 30622508 ] 4 . 10 dose up ( R ) Amerikansk porträttserie från 2014 .\\nDel 48 och 55 av 60 . [\\n31439362 ] [ 67456184 ] 5 . 10 - 6 . 05 dose up ( R ) Amerikanskt porträtt från 2014 .\",\n",
       " \"10 . 00 Go ' kväll [ 6322362 ] ( T ) ( R ) Magasin .\\nDel 3 av 70 .\\n10 . 45 Jerry Williams [ 5428459 ] ( T ) ( R ) Svenskt porträtt från 2018 .\\n11 . 45 Anders , jag och hans 23 andra kvinnor [ 4634362 ] ( T ) ( R ) Svensk dokumentär från 2018 .\\nRegi : Nahid Persson .\",\n",
       " '16 . 00 Sofias änglar [ 701879 ] Svensk livsstilsserie från 2016 .\\nDel 9 av 14 .\\n17 . 00 Tunnelbanan [ 710527 ] ( R ) Svensk realityserie från 2016 .\\nDel 4 av 15 .\\nÄven 12 / 1 .',\n",
       " \"6 . 05 dose up ( R ) Amerikanskt porträtt från 2014 .\\nDel 22 - 23 av 44 . [\\n10627409 ] [ 69195169 ] 7 . 05 Parenthood ( R ) Dramakomediserie från 2013 .\\nDel 16 - 21 av 22 .\\nKristina går på läkarkontroll men det hindrar henne inte från att starta ett nytt äventyrligt projekt . [\\n90781966 ] [ 32350275 ] [ 39307430 ] [ 52497053 ] [ 53660701 ] [ 97147184 ] 11 . 15 dose up ( R ) Amerikansk porträttserie från 2014 .\\nDel 8 av 60 . [\\n76553985 ] 11 . 45 dose up ( R ) Amerikanskt porträtt från 2014 .\\nDel 15 av 44 . [\\n90982985 ] 12 . 10 Parenthood ( R ) Dramakomediserie från 2013 .\\nDel 16 - 21 av 22 .\\nKristina går på läkarkontroll men det hindrar henne inte från att starta ett nytt äventyrligt projekt . [\\n92084898 ] [ 76318576 ] [ 70716072 ] [ 69294188 ] [ 11990140 ] [ 37212695 ] 16 . 20 dose up ( R ) Amerikanskt porträtt från 2014 .\\nDel 16 av 44 . [\\n53759053 ] 16 . 50 Parenthood ( R ) Dramakomediserie från 2013 .\\nDel 16 - 21 av 22 .\\nKristina går på läkarkontroll men det hindrar henne inte från att starta ett nytt äventyrligt projekt . [\\n40084430 ] [ 93092966 ] [ 57413546 ] [ 33546121 ] [ 27700633 ] [ 67923411 ] 21 . 00 The cry ( R ) Brittisk dramathrillerserie från 2018 .\\nDel 3 - 4 av 4 .\\nNya tillbakablickar avslöjar sanningen om Noahs försvinnande , samtidigt som lögnerna tär på föräldrarnas relation . [\\n54355430 ] [ 34988969 ] 22 . 55 Svartenbrandt - Sveriges farligaste brottsling ( R ) Svensk dokumentärserie från 2017 .\\nDel 1 - 3 av 3 . [\\n36535091 ] [ 37937121 ] [ 79798454 ] 1 . 15 Wentworth ( R ) Australisk dramaserie från | 2018 .\\nDel 1 - 4 av 12 . [\\n40195454 ] [ 50197676 ] [ 69113763 ] [ 51182744 ] 4 . 20 dose up ( R ) Amerikansk porträttserie från j 2014 .\\nDel 56 av 60 . [\\n83259638 ] 5 . 00 - 6 . 00 dose up ( R ) I Amerikanskt porträtt från ' 2014 .\\nDel 24 - 25 av 44 .\",\n",
       " \"6 . 50 Nitro circus crazy train [ 95743164 ] 7 . 40 My name is Earl [ 51068638 ] [ 44877164 ] 8 . 35 Community [ 44898657 ] [ 73833386 ] [ 55981909 ] [ 55982638 ] [ 55990657 ] ( R ) 11 . 00 Tattoo fixers [ 66474675 ] ( R ) 12 . 00 99 nya saker nied Erik & Mackan [ 62874611 ] 13 . 00 NCIS : Los Angeles [ 42074819 ] [ 87466831 ] [ 23249928 ] ( R ) 16 . 05 Cops [ 79114454 ] [ 83534676 ] Amerikansk realityserie från 2015 .\\nDel 29 - 30 av 33 .\\n17 . 00 Last nian on earth [ 83535305 ] [ 83505164 ] Amerikansk dramakomedi från 2016 .\\nDel 13 - 14 av 18 .\\n18 . 00 Simpsons [ 83506893 ] [ 83514812 ] ( R ) Amerikansk animerad komediserie från 2011 .\\nDel 4 - 5 av 22 .\\n19 . 00 Jack and Jill [ 56128183 ] O Amerikansk komedi från 2011 .\\nJack Sadelstein är en framgångsrik chef i reklambranschen i Los Angeles med en vacker fru och barn , som bävar inför en begivenhet varje år .\\nI rollerna : Adam Sandler , Katie Holmes och Al Pacino .\\n21 . 00 Django unchained [ 64091218 ] Amerikanskt västernäventyr från 2012 . 1 den amerikanska södern , två år före inbördeskriget , stöter slaven Django och hans brutala ägare på prisjägaren King Schultz .\\nI rollerna : Jamie Foxx , Leonardo Dicaprio och Samuel L Jackson .\\nSE SID 45 0 . 25 Legion [ 79045481 ] O Amerikansk action från 2010 . 1 rollerna : Paul Bettany , Dennis Quaid och Lucas Black .\\n2 . 25 Shoot ' em up [ 49178110 ] Amerikansk action från 2007 . 1 rollerna : Clive Owen och Paul Giamatti .\",\n",
       " '18 . 15 Landet runt [ 3577665 ] ( T ) Del 1 av 40 .\\nProgramledare : Henrik Kruusval .\\nÄven 14 / 1 , 19 / 1 och senare i natt .\\n19 . 00 Sportspegeln [ 96i ] Även 14 / 1 och SVT2414 / 1 .',\n",
       " \"6 . 00 dose up ( R ) Amerikanskt porträtt från 2014 .\\nDel 26 - 27 av 44 . [\\n37532367 ] [ 37540386 ] 7 . 00 Parenthood ( R ) Dramakomediserie från 2009 .\\nDel 1 - 13 av 13 . [\\n16778305 ] [ 90761102 ] [ 75829367 ] [ 53636744 ] [ 83258638 ] [ 60926541 ] [ 32450725 ] [ 77291763 ] [ 68674980 ] [ 94480831 ] [ 59797386 ] [ 86950589 ] [ 78389947 ] 16 . 05 Parenthood ( R ) Dramaserie från 2010 .\\nDel 1 - 7 av 22 .\\nAdam har det körigt både hemma och på jobbet . [\\n37203947 ] [ 31381386 ] [ 93069638 ] [ 65860251 ] [ 57469725 ] [ 27777305 ] [ 67990183 ] 21 . 00 Dirigenten ( R ) Svensk thrillerserie från 2019 .\\nDel 3 - 4 av 8 . Tom blir gripen och förhörd av åklagare Skurov samtidigt som Fredrik desperat försöker sätta stopp för affären . [\\n60410305 ] [ 16562473 ] 22 . 25 Channel zero : Butchers block ( R ) Skräckserie från 2018 .\\nDel 1 av 6 .\\nInsidious onset .\\nAlice och hennes syster Zoe flyttar till en ny stad . [\\n36592386 ] 23 . 10 Channel zero : Butcher ' s block ( R ) Skräckserie från 2018 .\\nDel 2 av 6 .\\nAlice letar vidare efter sin syster och får hjälp av sin hyresvärd , som skriver en bok om Butcher ' s Block . [\\n47976015 ] 23 . 50 Channel zero : av 6 .\\nAlice råkar ut för ett läskigt möte på ett övergivet sjukhus .\\nLuke , Louise och Nathan leker katt och råtta med Robert Peach . [\\n37933305 ] 0 . 35 Wentworth ( R ) Australisk dramaserie från 2018 .\\nDel 5 - 8 av 12 .\\nVera kämpar med ett personligt dilemma samtidigt som hon drabbas av negativa tidningsrubriker . [\\n40087481 ] [ 65394503 ] [ 72567400 ] [ 69189706 ] 3 . 40 The trip to Italy ( R ) Brittisk komediserie från 2014 .\\nDel 1 - 3 av 6 .\\nDuon tar sitt avstamp i Piemonte , stannar till vid Lord Byrons hus i Genoa och beger sig till vackra Camogli . [\\n31389313 ] [ 31473706 ] [ 25056508 ] 5 . 10 - 6 . 05 dose up ( R ) Amerikanskt porträtt från 2014 .\\nDel 28 - 29 av 44 . [\\n83050923 ] [ 99104313 ] Butcher s block ( Skräckserie från 2018 .\",\n",
       " 'Amerikansk underhållning från 2015 .\\nDel 44 av 78 .\\n8 . 05 Kevin can walt [ 4895955 ] [ 211313 ] Amerikansk komediserie från 2017 .\\nDel 19 .\\noch 20 .\\n9 . 00 The real housewives of Orange County [ 824416 ] [ 828232 ] Amerikansk realityserie från 2012 .\\nDel 7 - 8 av 23 .',\n",
       " '6 . 00 The late late show with James Corden ( R ) Amerikansk pratshow från 2018 .\\nDel 112 - 114 och 116 - 117 av 147 . [\\n15933725 ] [ 70133763 ] [ 26830744 ] [ 26133947 ] [ 21028760 ] 9 . 45 Frasier ( R ) Komediserie fran 2000 .\\nDel 7 - 16 av 24 . [\\n60861034 ] [ 36444164 ] [ 59615473 ] [ 36448980 ] [ 22868676 ] [ 10244589 ] [ 91734676 ] [ 70133386 ] [ 48091744 ] [ 84139164 ] 13 . 30 Will & Grace ( R ) Komediserie från 2004 .\\nDel 19 - 24 av 24 . [\\n25340102 ] [ 63659657 ] [ 42581909 ] [ 20255928 ] [ 38635725 ] [ 59627299 ] 15 . 45 Will & Grace ( R ) Komediserie från 2005 .\\nDel 1 - 4 av 24 . [\\n11106657 ] [ 53993831 ] [ 16949251 ] [ 45375164 ] 17 . 15 NCIS : Los Angeles ( R ) Kriminaldramaseriefrån 2013 .\\nDel 14 - 18 av 24 . [\\n26723015 ] [ 61751541 ] [ 58633909 ] [ 40933305 ] [ 23627522 ] 21 . 00 Absentia ( R ) Israelisk - amerikansk kriminalserie från 2017 .\\nDel 5 - 6 av 10 .\\nJakten efter Emily eskalerar när en av FBIs egna agenter hittats mördad , vilket får Nick att ifrågasätta allt om Emily och hennes återkomst . [\\n86850909 ] [ 46781928 ] 22 . 25 Brittiska imperiet ( R ) Amerikansk dramaserie från 2018 .\\nDel 3 - 4 av 6 .\\nCookie och Lucious kämpar för att komma tillbaka i musikbranschen , men behöver hjälp från hela familjen och några allierade för att lyckas . [\\n39597096 ] [ 41838386 ] 23 . 55 Seinfeld ( R ) Komediserie från 1991 - 92 .\\nDel 20 - 24 av 24 .\\nJerry har en träff med en kvinna han har glömt namnet på , men han minns att det rimmar på en kvinnlig kroppsdel .\\nElaine besöker ett ex på sjukhuset . [\\n49592541 ] [ 62824684 ] [ 79670139 ] [ 21900042 ] [ 79674955 ] 1 . 45 Seinfeld ( R ) Komediserie från 1993 .\\nDel 1 - 5 av 22 . [\\n62340503 ] [ 90592232 ] [ 86863329 ] [ 90503348 ] [ 33769023 ] 3 . 40 - 5 . 00 Valör Dramaserie från 2017 .\\nDel 7 - 8 av 13 . [\\n18422348 ] [ 18321665 ] 5 . 20 - 6 . 00 Blunt talk Komediserie från 2015 .',\n",
       " 'Del 1 av 40 .\\nÄven 14 / 1 .\\n16 . 10 Rapport [ 9508428 ] ( T ) 16 . 15 Sverige idag på meänkieli [ 3287969 ] ( T ) Del 1 av 40 .\\nÄven 14 / 1 .\\n16 . 25 - 16 . 55 KetanesTillsammans [ 7502503 ] ( T ) ( R ) Svensk musikserie från 2019 .\\nDell av 6 .\\n17 . 00 - 18 . 00 UR [ 81874 ] 17 . 00 Kortfilmsklubben - engelska [ 59232 ] [ 200044918 ] Kortfilmsserie från 2009 .\\nDel 65 - 66 av 77 .\\nRegi : Alyssa McClelland .\\nÄven 14 / 1 . 17 . 49 Kortfilmsklubben - tyska [ 400441481 ] Kortfilmsserie från 2009 .\\nDel 53 av 56 .\\nRegi : Marvin Schulz .\\nÄven 14 / 1 . 17 . 56 Gordon & Penny [ 103051077 ] Engelsk språkutbildning .\\nDel 15 av 20 .\\nÄven 14 / 1 .\\n18 . 00 Dollagattis [ 7232 ] ( T ) Samtal på samiska .\\nDel 1 av 3 .\\nVi möter tre starka samiska kvinnor som alla satt avtryck i historien .\\nAnna - Karin Niia leder samtalen och eldplatsen är noga vald av kvinnorna .\\nProgramledare : Anna - Karin Niia .\\nÄven 14 / 1 och 19 / 1 .\\n18 . 30 Min squadXLmeänkieli [ 9023 ] ( T ) Svensk realityserie från 2018 .',\n",
       " '6 . 00 Seinfeld ( R ) Komediserie från 1997 - 98 .\\nDel 16 - 24 av 24 . [\\n85994954 ] [ 46214400 ] [ 87102481 ] [ 80580684 ] [ 90013329 ] [ 41645329 ] [ 86200329 ] [ 32695416 ] [ 75989145 ] 9 . 20 Seinfeld ( R ) Komediserie från 1991 .\\nDel 1 av 5 . [\\n32699232 ] 9 . 45 Frasier ( R ) Komediserie från 1994 .\\nDel 7 - 16 av 24 . [\\n60838706 ] [ 36348936 ] [ 59682145 ] [ 36342752 ] [ 22835348 ] [ 10204961 ] [ 91701348 ] [ 70100058 ] [ 48068416 ] [ 84033936 ] 13 . 30 Chicago fire ( R ) Dramaserie från 2013 .\\nDel 1 - 5 av 22 . [\\n60705972 ] [ 43849416 ] [ 21342110 ] [ 99074856 ] [ 25409955 ] 17 . 15 Nävy CIS ( R ) Kriminalserie från 2013 .\\nDel 5 - 9 av 24 . [\\n26790787 ] [ 61655313 ] [ 58520481 ] [ 40900077 ] [ 23521394 ] 21 . 00 New Amsterdam ( R ) Amerikans dramaserie fran 2018 .\\nDel 1 - 2 av 9 .\\nSjukhusets nya chef Dr Goodwin vill bli kvitt al It gammalt tänk och bevisa att inget kan hindra honom från att få nytt liv och nya idéer . [\\n86747481 ] [ 46678400 ] 22 . 25 S . W . A . T . ( R ) Actionserie från 2017 .\\nDel 1 .\\noch 2 .\\nSWAT sergeanten Daniel \" Hondo \" Harrelson har precis fått i uppdrag att leda specialenheten , den sista anhalten för brottsbekämpning i Los Angeles . [\\n39491868 ] [ 84374329 ] 23 . 50 The Shannara chronicles ( R ) Äventyrsserie från 2017 .\\nDel 7 - 8 av 10 .\\nBandon och hans följeslagare måste skynda sig för att återuppliva Warlock Lord medan Mareth måste riskera allt innan det är för sent . [\\n40938684 ] [ 33085733 ] 1 . 15 Billions ( R ) Dramaserie från 2017 .\\nDel 5 av 12 . [\\n61360424 ] 2 . 10 NCIS : Los Angeles ( R ) Kriminaldramaserie från 2013 .\\nDel 10 av 24 . [\\n26154559 ] 2 . 55 New Amsterdam ( R ) Amerikans dramaserie från 2018 .\\nDel 1 - 2 av 9 . [\\n40123511 ] [ 27786820 ] 4 . 20 Weeds ( R ) Komediserie fran 2011 .\\nDel 3 - 4 av 13 . [\\n81237608 ] [ 90516356 ] 5 . 20 - 6 . 00 Blum talk Komediserie från 2015 .',\n",
       " '10 . 40 Sportspegeln [ 2489820 ] ( T ) ( R ) 11 . 10 Inför Idrottsgalan [ 2162288 ] ( T ) 11 . 15 Så ska det låta [ 5330240 ] ( T ) ( R ) 12 . 15 Mitt perfekta liv [ 246849 ] ( T ) ( R ) 12 . 45 Kolla myten [ 453917 ] ( T ) ( R ) 12 . 55 Stjärnorna på slottet [ 5948207 ] ( T ) ( R ) Svensk realityserie från 2018 .\\nDel 3 av 5 .\\n13 . 55 Skavlan [ 1278462 ] ( T ) ( R ) Svensk - norsk pratshow från 2019 .\\nDel 1 av 12 .\\n14 . 55190 graders värme [ 2705998 ] ( T ) ( R ) Svensk kortdokumentär från 2014 .\\n15 . 10 Kvinnor i fångenskap [ 5575424 ] ( T ) Svenskt drama från 1943 . 1 rollerna : Gunnar Sjöberg , Margot Ryding och Elsie Albiin .\\nRegi : Olof Molander .\\nSE SID 69 16 . 45 Vem vet mest ?',\n",
       " '6 . 05 dose up ( R ) Amerikanskt porträtt från 2014 .\\nDel 30 - 31 av 44 . [\\n62204481 ] [ 37517058 ] 7 . 00 Parenthood ( R ) Dramaserie från 2010 .\\nDel 8 - 22 av 22 .\\nSarah tillbringar en dag , som blir till natt , ihop med Gordon .\\nAdam konfronterar en man när han tar Max i försvar . [\\n16745077 ] [ 90738874 ] [ 75723139 ] [ 53603416 ] [ 83145110 ] [ 60820313 ] [ 46277597 ] [ 92029961 ] [ 68578752 ] [ 94457503 ] [ 59764058 ] [ 26848874 ] [ 86922706 ] [ 37270619 ] [ 40029503 ] 17 . 25 Parenthood ( R ) Dramaserie från 2011 .\\nDel 1 - 5 av 18 .\\nSarah fyller jämnt , 40 år , och får stöd av Mark Cyr .\\nAdam , som är arbetslös och stressad , funderar på en affärsmöjlighet ihop med Crosby . [\\n31264665 ] [ 65764023 ] [ 57363597 ] [ 27744077 ] [ 67894955 ] 21 . 00 Maria Wern ( R ) Svensk kriminalserie från 2018 .\\nDel 1 av 4 .\\nBara några dagar innan Almedalsveckans invigning inträffar en explosion på ett hotell inne i Visby och en partiledare försvinner spårlöst . [\\n10373394 ] 22 . 25 Channel zero : Butchers block ( R ) Skräckserie från 2018 .\\nDel 4 - 6 av 6 .\\nAlice in slaughterland .\\nAlice konfronterar sin begynnande galenskap medan Zoe äter människokött med familjen Peach . [\\n36569058 ] [ 47943787 ] [ 22982145 ] 0 . 30 Wentworth ( R ) Australisk dramaserie från 2018 .\\nDel 9 - 12 av 12 .\\nNär Vera får veta en chockerande hemlighet om en nära vän tvingas hon välja mellan att rapportera händelsen och att bli delaktig i konspirationen . [\\n83075511 ] [ 40065269 ] [ 72535801 ] [ 69084207 ] 3 . 35 The trip to Italy ( R ) Brittisk komediserie från 2014 .\\nDel 4 - 6 av 6 .\\nRob berättar att han har fått erbjudande om att spela huvudrollen i en film .\\nStevé är chockad men lovar att hjälpa till med provspelningen . [\\n31357714 ] [ 31347337 ] [ 93955379 ] 5 . 05 - 6 . 10 dose up ( R ) Amerikanskt porträtt från 2014 .',\n",
       " '6 . 10 dose up ( R ) [ 62270424 ] [ 69026085 ] 7 . 05 Parenthood ( R ) Del 22 av 22 . [\\n32287375 ] 7 . 45 Parenthood ( R ) Dramakomediserie från 2014 .\\nDel 1 - 5 av 13 . [\\n90631917 ] [ 39245646 ] [ 52335269 ] [ 53508917 ] [ 38591220 ] 11 . 15 dose up ( R ) Amerikansk porträttserie från 2014 .\\nDel 12 av 60 . [\\n76484801 ] 11 . 45 dose up ( R ) Amerikanskt porträtt från 2014 .\\nDel 17 av 44 . [\\n90813801 ] 12 . 10 Parenthood ( R ) Dramakomediserie från 2013 .\\nDel 22 av 22 . [\\n11362676 ] 12 . 50 Parenthood ( R ) Dramakomediserie från 2014 .\\nDel 1 - 5 av 13 . [\\n84717527 ] [ 70654288 ] [ 26728066 ] [ 62839646 ] [ 37143511 ] 16 . 20 dose up ( R ) Amerikanskt porträtt från 2014 .\\nDel 18 av 44 . [\\n69975530 ] 16 . 45 Parenthood ( R ) Dramakomediserie från 2013 .\\nDel 22 av 22 . [\\n31245530 ] 17 . 30 Parenthood ( R ) Dramakomediserie från 2014 .\\nDel 1 - 5 av 13 . [\\n93923882 ] [ 57344462 ] [ 33484337 ] [ 27648849 ] [ 67861627 ] 21 . 00 Wentworth ( R ) Australisk dramaserie från 2018 .\\nDel 12 av 12 .\\nEn förvånad Vera inser slutligen vem hennes förföljare är , samtidigt som hon ställs inför ett sista ultimatum . [\\n60382578 ] 21 . 45 Maria Wern ( R ) Svensk kriminalserie från 2018 .\\nDel 1 av 4 .\\nBara några dagar innan Almedalsveckans invigning inträffaren explosion på ett hotell inne i Visby och en partiledare försvinner spårlöst . [\\n81110004 ] 23 . 15 The cry ( R ) Brittisk dramathrillerserie från 2018 .\\nDel 1 - 2 av 4 . [\\n59420356 ] [ 38919554 ] 1 . 10 Jägarna ( R ) Svensk thrillerserie från 2018 .\\nDel 1 - 3 av 6 . [\\n40041689 ] [ 40045405 ] [ 69022467 ] 3 . 25 The girlfriend experience ( R ) Dramaserie från 2017 .',\n",
       " 'Ekonyheter varje timme 0 . 00 - 5 . 00 och 19 . 00 - 0 . 00 samt 5 . 30 .\\nP3 nyheter varje timme 6 . 00 - 18 . 00 samt 6 . 30 . 7 . 30 och 8 . 30 .\\nVäder i anslutning till ekosändningen / PS nyheter 5 . 30 , 12 . 00 , 17 . 00 , 18 . 00 , 22 . 00 och 23 . 00 .\\n6 . 30 Morgonpasset .\\n10 . 02 Relationsradion i P3 .',\n",
       " '6 . 00 dose up ( R ) Amerikanskt porträtt från 2014 .\\nDel 7 - 8 av 44 . [\\n37463283 ] [ 37471202 ] 7 . 00 Parenthood ( R ) Dramakomediserie från 2014 .\\nDel 6 - 11 av 13 . [\\n16609221 ] [ 90609318 ] [ 75750283 ] [ 52303660 ] [ 53578776 ] [ 60865486 ] 11 . 15 dose up ( R ) Amerikansk porträttserie från 2014 .\\nDel li av 60 . [\\n90869080 ] 11 . 40 dose up ( R ) Amerikanskt porträtt från 2014 .\\nDel 22 av 44 . [\\n90883660 ] 12 . 05 Parenthood ( R ) Dramakomediserie från 2014 .\\nDel 6 - 11 av 13 . [\\n92812991 ] [ 68540979 ] [ 94790689 ] [ 26795738 ] [ 26790283 ] [ 15724427 ] 16 . 20 dose up ( R ) Amerikanskt porträtt från 2014 .\\nDel 19 av 44 . [\\n69942202 ] 16 . 45 Parenthood ( R ) Dramakomediserie från 2014 .\\nDel 6 - 11 av 13 . [\\n31212202 ] [ 93990554 ] [ 65708467 ] [ 57390641 ] [ 27608221 ] [ 67838399 ] 21 . 00 Condor ( R ) Dramathrillerserie från 2018 .\\nDel 4 av 10 .\\nJoe tvingas fly med Kathy när arbetsgruppen närmar sig . [\\n60342950 ] 21 . 45 Maria Wern ( R ) Svensk kriminalserie från 2018 .\\nDel 2 av 4 .\\nEtt flygplan på väg från Visby måste nödlanda efter att en man mystiskt insjuknat ombord .\\nMannen visar sig vara någon annan än den han utgett sig för . [\\n81187776 ] 23 . 15 The cry ( R ) Brittisk dramathrillerserie från 2018 .\\nDel 3 - 4 av 4 .\\nNya tillbakablickar avslöjar sanningen om Noahs försvinnande , samtidigt som lögnerna tär på föräldrarnas relation . [\\n92443486 ] [ 38812697 ] 1 . 15 Jägarna ( R ) Svensk thri I lerserie från 2018 .\\nDel 4 - 6 av 6 . [\\n40920142 ] [ 63779626 ] [ 69918210 ] 3 . 30 The girlfriend experience ( R ) Dramaserie från 2017 .\\nDel 3 - 4 av 14 . [\\n71054245 ] [ 71055974 ] 4 . 30 dose up ( R ) Amerikansk porträttserie från 2014 .\\nDel 57 av 60 . [\\n78861535 ] 5 . 00 - 6 . 20 dose up ( R ) Amerikanskt porträtt från 2014 .',\n",
       " 'Strukna , GS75 - 1 : nr 4 och 8 .\\nGS75 - 2 : nr 4 och 15 .\\nGS75 - 5 : nr 8 .\\nGS75 - 6 : nr 1 och 7 .\\nV4 - raden : 11 - 3 - 2 - 6 .\\n4 rätt ( 594 , 7 ) 1453 kr . Strukna , V4 - 2 : nr 8 .\\nV4 - 3 : nr 1 och 7 .',\n",
       " 'Svensk dramasene från 1593 .\\nDel 1 av 12 .\\n4 . 45 Sverige idag [ 8263741 ] ( R ) 5 . 15 - 6 . 00 Gokväll [ 2041079 ] ( T ) ( R ) Magasin .\\nDel 7 av 72 .',\n",
       " 'Finsk komediserie från 2018 .\\nDel 2 av 10 .\\nNya trick .\\nRepris från 16 / 1 .\\nÄven 20 / 1 .\\n2 . 40 - 3 . 35 Hitlers olympiska mästare [ 8038944 ] ( R ) Fransk dokumentär från 2016 .\\nDel 2 av 2 . 1936 - 1945 .\\nFrån tidigare i dag .',\n",
       " '9 . 00 - 16 . 15 Forum [ 70763369 ] 9 . 00 Forum [ 26908524 ] 12 . 00 Rapport [ 34524 ] ( T ) 12 . 03 Forum [ 367465494 ] 16 . 00 Rapport [ 13475 ] ( T ) 16 . 05 Forum [ 2631825 ] Aktuellt om politik och samhälle .\\nPressträffar , seminarier , kongresser och studiosamtal .\\n16 . 15 Hundra procent bonde [ 6202272 ] ( R ) Dansk realityserie från 2018 .\\nDel 3 av 7 .\\nEn dröm går i uppfyllelse när Frank får tag på en ny hyvelbänk till sin verkstad .\\nFrån 16 / 1 .\\nÄven 19 / 1 , 20 / 1 , 21 / 1 och SVT24 18 / 1 .',\n",
       " '6 . 00 Morgonstudion [ 47177659 ] ( T ) 9 . 10 Rederiet [ 5359524 ] ( T ) Svensk dramaserie från 1993 .\\nDel 2 av 12 .\\nSE SID 20 9 . 55 Dagny - om jag sätter mig ner nu dör jag [ 2697794 ] ( T ) ( R ) Svensk dokumentär från 2019 .\\nRegi : Åsa Blanck .\\n10 . 55 Helt lyriskt [ 9274949 ] ( T ) ( R ) Svensk underhållning från 2018 - 19 .\\nDel 4 av 6 .\\n11 . 55 Uppdrag granskning [ 9501765 ] ( T ) ( R ) Svenskt samhällsmagasin från 2019 .\\nDel 2 av 20 .\\n12 . 55 Auktionssommar [ 5879123 ] ( T ) ( R ) Svensk tv - lek från 2019 .\\nDel 1 av 8 .',\n",
       " '6 . 05 dose up ( R ) Del 15 - 16 av 44 . [\\n92425681 ] [ 99184299 ] 7 . 00 Parenthood ( R ) Dramakomediserie från 2009 .\\nDel 4 - 9 av 13 . [\\n16570765 ] [ 90563562 ] [ 75621727 ] [ 52274104 ] [ 53432920 ] [ 60729630 ] 11 . 15 dose up ( R ) Amerikansk porträttserie från 2014 .\\nDel 16 av 60 . [\\n90730524 ] 11 . 40 dose up ( R ) Amerikanskt porträtt från 2014 .\\nDel 27 av 44 . [\\n90754104 ] 12 . 05 Parenthood ( R ) Dramakomediserie från 2009 .\\nDel 4 - 9 av 13 . [\\n95466415 ] [ 68404123 ] [ 94651746 ] [ 87869475 ] [ 26661727 ] [ 12491271 ] 16 . 20 dose up ( R ) Amerikanskt porträtt från 2014 .\\nDel 28 av 44 . [\\n69813746 ] 16 . 45 Parenthood ( R ) Dramakomediserie från 2009 .\\nDel 4 - 9 av 13 . [\\n40854291 ] [ 31162253 ] [ 65662611 ] [ 57261185 ] [ 27579765 ] [ 67792543 ] 21 . 00 Channel zero : The dream door ( R ) Skräckserie från 2018 .\\nDel 2 av 6 .\\nJill är skakad efter mordet .\\nSkepnaden bakom källardörren är identisk med den förvridna clown hon ritat som barn och namngett Jack Pretzel . [\\n60212765 ] 21 . 40 Maria Wern ( R ) Svensk kriminalserie från 2018 .\\nDel 4 av 4 .\\nEn ung kvinna hittas död och omständigheterna pekar på kopplingar till två tidigare mord på Gotland . [\\n80107123 ] 23 . 05 Sweetbitter ( R ) Dramaserie från 2018 med Ella Purnell , Caitlin FitzGerald .\\nDel 4 - 6 av 6 . [\\n84235140 ] [ 96788494 ] [ 43330302 ] 0 . 30 Vida ( R ) Dramaserie från 2018 .\\nDel 4 - 6 av 6 . [\\n71934437 ] [ 71935166 ] [ 99278811 ] 2 . 05 Mr Mercedes ( R ) Thrillerserie från 2017 .\\nDel 3 - 4 av 10 . [\\n72440789 ] [ 60521760 ] 3 . 45 The girlfriend experience ( R ) Dramaserie från 2017 .\\nDel 7 - 8 av 14 . [\\n72621925 ] [ 31275166 ] 4 . 40 dose up ( R ) Amerikansk porträttserie från 2014 .',\n",
       " 'Amerikansk komediserie från 2016 .\\nDel 16 - 17 av 24 .\\nRepris från 18 / 1 .\\nÄven 18 / 1 .\\n20 . 00 Wahlgrens värld [ 734055 ] ( R ) Svensk realityserie från 2019 .\\nDel 1 .',\n",
       " '8 . 30 Drömyrke : veterinär [ 9499 ] ( R ) Finsk realityserie från 2018 .\\nDel 2 av 8 .\\n\" Tidigare hade jag en rätt romantiserad bild av yrket . \" . \" .\\nÄven 19 / 1 .\\n9 . 00 - 16 . 15 Forum [ 70723741 ] 9 . 00 Forum [ 26975296 ] 12 . 00 Rapport [ 92128 ] ( T ) 12 . 03 Forum [ 367432166 ] 16 . 00 Rapport [ 64789 ] ( T ) 16 . 05 Forum [ 6936037 ] Aktuellt om politik och samhälle .\\nPressträffar , seminarier , kongresser och studiosamtal .\\n16 . 15 Kulturveckan [ 137012 ] ( R ) Svenskt kulturmagasin från 2019 .\\nDel 2 av 10 .\\nProgramledare : Ika Johannesson , Jessika Gedin , Beppe Starbrink , Tara Moshizi , Rebecca Haimi .\\nÄven 19 / 1 och 20 / 1 .\\n17 . 15 Nyheter på lätt svenska [ 8671505 ] ( T ) 17 . 20 Nyhetstecken [ 8129050 ] ( T ) Nyheter på teckenspråk .\\n17 . 30 Oddasat [ 61079 ] Samiskspråkiga nyheter .\\n17 . 45 Uutiset [ 335876 ] Finskspråkiga nyheter .',\n",
       " '12 . 00 Hem till gården [ 171741 ] [ 554050 ] 13 . 00 Doktorn kan komma [ 685875 ] ( R ) 14 . 00 En plats i solen - borta eller hemma häst ? [\\n363881 ] 15 . 00 Fixer upper [ 449789 ] ( R ) 16 . 00 Fabriken inifrån [ 443505 ] ( R ) Brittisk dokumentärserie från 2017 .\\nDel 1 av 6 .\\nBrittiska paraddrycken te kommer i flera färger , former och smaker , med en fantastisk historia .\\n17 . 00 Efter fem [ 212857 ] Svenskt samhällsmagasin från 2019 .\\nDel 10 av 115 .\\n17 . 50 V75 - Klubben [ 5186296 ] Del 3 av 25 .',\n",
       " '6 . 10 dose up ( R ) Amerikanskt porträtt från 2014 .\\nDel 19 - 20 av 44 . [\\n29970316 ] [ 69923944 ] 7 . 10 Parenthood ( R ) Dramakomediserie från 2009 .\\nDel 10 - 13 av 13 . [\\n32177944 ] [ 32196079 ] [ 39144963 ] [ 29977437 ] 9 . 55 Parenthood ( R ) Dramaserie från 2010 .\\nDel 1 - 2 av 22 . [\\n53406505 ] [ 21770383 ] 11 . 20 dose up ( R ) Amerikansk porträttserie från 2014 .\\nDel 17 av 60 . [\\n24868031 ] 11 . 45 dose up ( R ) Amerikanskt porträtt från 2014 .\\nDel 29 av 44 . [\\n90728789 ] 12 . 10 Parenthood ( R ) Dramakomediserie från 2009 .\\nDel 10 - 13 av 13 . [\\n92813302 ] [ 82411960 ] [ 94241944 ] [ 70556692 ] 15 . 00 Parenthood ( R ) Dramaserie från 2010 .\\nDel 1 - 2 av 22 . [\\n11736944 ] [ 37058499 ] 16 . 20 dose up ( R ) Amerikanskt porträtt från 2014 .\\nDel 31 av 44 . [\\n53595857 ] 16 . 50 Parenthood ( R ) Dramakomediserie från 2009 .\\nDel 10 - 13 av 13 . [\\n40820234 ] [ 93821470 ] [ 57242050 ] [ 33382925 ] 19 . 35 Parenthood ( R ) Dramaserie från 2010 .\\nDel 1 - 2 av 22 .\\nAdam har det körigt både hemma och på jobbet . [\\n27546437 ] [ 67769215 ] 21 . 00 Sthlm rekviem ( R ) Svensk kriminaldramaserie från 2018 .\\nDel 1 - 2 av 18 .\\nFredrika Bergman anställs som civilkompetens hos polisen men hennes närvaro är varken välkommen eller önskad . [\\n60280166 ] [ 16338418 ] 22 . 30 The little drummer girl ( R ) Thrillerserie från 2018 .\\nDel 1 - 4 av 8 .\\nDen passionerade skådespelerskan Charlie möter en mystisk främling på stranden när hon reser med sitt teatersällskap till Grekland . [\\n85453741 ] [ 52279895 ] [ 61858596 ] [ 93749708 ] 1 . 25 Mr Mercedes ( R ) Thrillerserie från 2017 .\\nDel 5 - 7 av 10 . [\\n65155616 ] [ 11499432 ] [ 25409364 ] 4 . 00 The girlfriend experience ( R ) Dramaserie från 2017 .',\n",
       " \"O 6 . 00 Diners , Drive - lns , and DiveS [ 27377161 ] [ 98919180 ] [ 94046277 ] [ 98183180 ] [ 13932093 ] 7 . 50 Wheeler Dealers [ 58668155 ] ( R ) 8 . 15 Texas flip n ' move [ 36545221 ] ( R ) 9 . 10 Längdåkning [ 91726703 ] Ski Classics - La Diagonela .\\n12 . 30 Formel E : Höjdpunkter [ 97644109 ] 13 . 30 Wheeler Dealers [ 59737068 ] ( R ) 14 . 00 Kustbevakarna [ 97623616 ] [ 54481797 ] [ 54485513 ] ( R ) 17 . 00 Property brothers [ 54567161 ] Amerikansk reality från 2013 .\\nDel 26 av 26 .\\n18 . 00 Gränsbevakarna Australien [ 42745109 ] [ 42640600 ] [ 62895068 ] [ 62990567 ] ( R ) Australisk dokumentärserie från 2005 .\\nDel 7 - 10 av 24 .\\nVi följer expertteamet som på flygplatser och kustremsor bevakar Australiens gränser .\\n20 . 00 Grand designs [ 52555277 ] ( R ) Brittisk livsstilsserie från 2015 .\\nDel 3 .\\nFrån 14 / 1 .\\n21 . 05 Law & order : Special victims unit [ 36796635 ] [ 93068635 ] Amerikansk kriminalserie från 2017 .\\nDel 5 .\\noch 6 .\\nEtt tio år gammalt kidnappningsfall tas upp igen när en ung kvinna hittas ensam i Central Park .\\n23 . 05 C SI [ 81528161 ] ( R ) Amerikansk kriminalserie från 2013 .\\nDel 3 av 22 .\\nEn tjej blir ihjälskjuten under ett stort rejvparty i öknen , och CSIgruppen försöker hitta mördaren och hennes försvunne vän .\",\n",
       " \"6 . 05 dose up ( R ) Amerikanskt porträtt från 2014 .\\nDel 23 - 24 av 44 . [\\n62073513 ] [ 37379890 ] 7 . 00 Parenthood ( R ) Dramaserie från 2011 .\\nDel 6 - 18 av 18 .\\nKristina blir utmattad av att vara supermamma , medan Crosby och Adam försöker få en första kund till sin studioartisten Cee Lo Green . [\\n16514109 ] [ 90507906 ] [ 75585971 ] [ 53472548 ] [ 83914242 ] [ 60762345 ] [ 46119529 ] [ 77932068 ] [ 32936345 ] [ 68439819 ] [ 94221180 ] [ 26617906 ] [ 86791838 ] 16 . 05 Parenthood ( R ) Dramakomediserie från 2012 .\\nDel 1 - 7 av 15 .\\nFamily portrait .\\nFamiljen Braverman samlas för ett familjefoto innan Häddle åker iväg på college .\\nJulia och Joel försöker hantera sin nya familjesitutation . [\\n37032451 ] [ 31110890 ] [ 93725242 ] [ 65533155 ] [ 57205529 ] [ 27513109 ] [ 67736987 ] 21 . 00 Dirigenten ( R ) Svensk thrillerserie från 2019 .\\nDel 5 - 6 av 8 .\\nTom åker till Sverige i sin jakt på sanningen och lyckas undvika ett kidnappningsförsök när hans förflutna gör sig påmint . [\\n60257838 ] [ 16398890 ] 22 . 30 The little drummer girl ( R ) Thrillerse ' hrillerserie från 2018 .\\nDel 5 - 8 av 8 .\\nBecker visar Charlie hur man hanterar ett vapen i väntan på att Michels nätverk ska söka kontakt . [\\n85350600 ] [ 52245838 ] [ 89549001 ] [ 76593420 ] 1 . 25 Mr Mercedes ( R ) Thrillerserie från 2017 .\\nDel 8 - 10 av 10 .\\nFrom the ashes .\\nBrady hamnar i en självförvållad kris efter att ha begått ett allvarligt misstag och Hol ly och Jerome gör en viktig upptäckt . [\\n65059488 ] [ 72300117 ] [ 34103223 ] 3 . 55 - 4 . 50 The girlfriend experience ( R ) Dramaserie fran 2017 .\\nDel 11 - 12 av 14 .\\nMaking amends .\\nBria påminns om sin traumatiska och kriminella historia med Donald när hon mot sin vilja färdas mot rättegången . [\\n87177223 ] [ 31120662 ] 5 . 05 - 6 . 00 dose up ( R ) Amerikanskt porträtt från 2014 .\",\n",
       " 'Viasat Series 6 . 00 The late late show with James Corden ( R ) Amerikansk pratshow från 2018 .\\nDel 118 - 122 av 147 . [\\n15779529 ] [ 70979567 ] [ 26676548 ] [ 26962451 ] [ 23628744 ] 9 . 45 Frasier ( R ) Komediserie fran 2000 .\\nDel 17 - 22 , 24 och 23 av 24 . [\\n60607838 ] [ 36117068 ] [ 59451277 ] [ 36111884 ] [ 22697180 ] [ 10073093 ] [ 91563180 ] [ 70962890 ] 12 . 45 Frasier ( R ) Komediserie från 2001 .\\nDel 1 - 2 av 24 . [\\n48837548 ] [ 84802068 ] 13 . 30 Will & Grace ( R ) ) 05 .\\nC Komediserie från 20Ö5 .\\nDel 5 - 14 av 24 . [\\n25186906 ] [ 63488161 ] [ 42247513 ] [ 20084432 ] [ 38471529 ] [ 59456703 ] [ 11935161 ] [ 53739635 ] [ 16612155 ] [ 45048068 ] 17 . 15 NCIS : Los Angeles ( R ) Kriminaldramaserie från 2013 .\\nDel 19 - 23 av 24 .\\nHetty beslutar sig för att skicka NCIS - teamet till Afghanistan när hon hör att Kensi är försvunnen och att talibaner har tillfångatagit henne . [\\n26569819 ] [ 61597345 ] [ 58399513 ] [ 40779109 ] [ 23390426 ] 21 . 00 Absentia ( R ) Israelisk - amerikansk kriminalserie från 2017 .\\nDel 7 - 8 av 10 .\\nA & B . Beväpnad med information kring hennes bortförande , utreder Emily en ledtråd som tar henne till sin barndom , medan Nick står inför ännu en tragedi . [\\n86516513 ] [ 46510432 ] 22 . 25 Brittiska imperiet ( R ) Amerikansk dramaserie från 2018 .\\nDel 5 - 6 av 6 .\\nHakeem är fast besluten att övertyga Tiana om att han har mognat .\\nSamtidigt börjar Cookie bli orolig för Jamal . [\\n39253600 ] [ 41667890 ] 23 . 55 Seinfeld ( R ) Komediserie från 1993 .\\nDel 6 - 15 av 22 .\\nJerry är på tennismatch och har en flört med en av linjedomarna .\\nSenare får han veta att hon är döv . [\\n49338345 ] [ 62660488 ] [ 79409643 ] [ 21746846 ] [ 79410759 ] [ 62013407 ] [ 90265136 ] [ 86529933 ] [ 90269952 ] [ 95286469 ] 3 . 45 - 5 . 05 Valör Dramaserie från 2017 .\\nDel 9 - 10 av 13 . [\\n34230662 ] [ 18159440 ] 5 . 15 - 6 . 00 Blunt talk Komediserie från 2015 .',\n",
       " \"6 . 00 Close up ( R ) Amerikanskt porträtt från 2014 .\\nDel 27 - 28 av 44 . [\\n37265643 ] [ 37273662 ] 7 . 00 Parenthood ( R ) Dramakomediserie från 2012 .\\nDel 8 - 15 av 15 . [\\n16401681 ] [ 75558827 ] [ 96322594 ] [ 53369020 ] [ 83981914 ] [ 60666117 ] [ 32183001 ] [ 77931339 ] 12 . 35 Parenthood ( R ) Dramakomediserie från 2013 .\\nDel 1 - 12 av 22 . [\\n45365466 ] [ 68323204 ] [ 59420662 ] [ 86683865 ] [ 78012223 ] [ 37936223 ] [ 31014662 ] [ 93792914 ] [ 57113594 ] [ 33253469 ] [ 27400681 ] [ 67630759 ] 21 . 00 Tjock - Steffe ( R ) Svensk dokumentärserie från 2018 .\\nDel l - 3av3 .\\nEn44årig svensk man överlever mirakulöst en bilkrasch i 350 kilometer i timmen i Malibu . [\\n60144310 ] [ 16292662 ] [ 70308681 ] 23 . 45 Channel zera : Butchers block ( R ) Skräckserie från 2018 .\\nDel 1 av 6 .\\nAlice och hennes syster Zoe flyttar tillen nystad . [\\n22656778 ] 0 . 25 Channel zero : Butcher s block ( R ) Skräckserie från 2018 .\\nDel 2 av 6 .\\nAlice letar vidare efter sin syster och får hjälp av sin hyresvärd , som skriver en bok om Butcher ' s Block . [\\n13557529 ] 1 . 10 Channel zero : Butcher ' s block ( R ) Skräckserie från 2018 .\\nDel 3 av 6 .\\nAlice råkar ut för ett läskigt möte på ett övergivet sjukhus .\\nLuke , Louise och Nathan leker katt och råtta med Robert Peach . [\\n66480112 ] 1 . 50 Channel zero : Butcher ' s block ( R ) Skräckserie från 2018 .\\nDel 4 av 6 . [\\n81883570 ] 2 . 30 Channel zero : Butcher ' s block ( R ) Skräckserie från 2018 .\\nDel 5 av 6 . [\\n50877860 ] 3 . 15 Channel zero : Butcher ' s block ( R ) Skräckserie från 2018 .\\nDel 6 av 6 . [ 48569976 ] 3 . 55 - 4 . 50 The girlfriend experience ( R ) Dramaserie från 2017 .\\nDel 13 - 14 av 14 . [\\n87144995 ] [ 31197334 ] 5 . 05 - 6 . 05 Close up ( R ) Amerikansk porträttserie från 2014 .\",\n",
       " '6 . 00 Seinfeld ( R ) Del 2 - 5 och 1 - 6 av 5 . [\\n22546038 ] [ 11784391 ] [ 87947556 ] [ 87962865 ] [ 90779933 ] [ 41301933 ] [ 86966933 ] [ 32351020 ] [ 75652049 ] [ 32362138 ] 9 . 45 Frasier ( R ) Komediserie från 1994 .\\nDel 17 - 24 av 24 . [\\n60594310 ] [ 36177440 ] [ 59355049 ] [ 36188556 ] [ 22591952 ] [ 10977865 ] [ 91467952 ] [ 70866662 ] 12 . 45 Frasier ( R ) Komediserie från 1995 .\\nDel 1 - 2 av 24 . [\\n48724020 ] [ 84862440 ] 13 . 30 Chicago fire ( R ) Dramaserie från 2013 .\\nDel 6 - 10 av 22 . [\\n36996376 ] [ 43505020 ] [ 21188914 ] [ 16983040 ] [ 25245759 ] 17 . 15 Nävy CIS ( R ) Kriminalserie från 2013 .\\nDel 10 - 14 av 24 .\\nGruppen hittar en koppling mellan ett mordoffer och Gibbs exfrus nye pojkvän , vilket genast leder till stora problem i utredningen . [\\n26456391 ] [ 61491117 ] [ 58366285 ] [ 40666681 ] [ 23367198 ] 21 . 00 New Amsterdam ( R ) Amerikans dramaserie från 2018 .\\nDel 3 - 4 av 9 .\\nReynolds börjar bygga upp sin avdelning medan Dr . Sharpe kämpar med skepticism från en patients föräldrar . [\\n86583285 ] [ 46414204 ] 22 . 25 S . W . A . T . ( R ) Actionserie från 2017 .\\nDel 3 .\\noch 4 .\\nNyanställde Jim äventyrar sin plats i teamet när han går med på att göra sin inspärrade mamma en tjänst . [\\n39220372 ] [ 84030933 ] 23 . 50 The Shannara chronicles ( R ) Äventyrsserie från 2017 .\\nDel 9 - 10 av 10 .\\nEretria bekänner en mörk hemlighet för Wil .\\nBandons högsta önskan går i uppfyllelse , men det finns en hållhake . [\\n40774488 ] [ 33821537 ] 1 . 15 Billions ( R ) Dramaserie från 2017 .\\nDel 6 av 12 . [\\n91862353 ] 2 . 15 NCIS : Los Angeles ( R ) Kriminaldramaserie från 2013 .\\nDel li av 24 . [\\n26980976 ] 3 . 00 New Amsterdam ( R ) Amerikans dramaserie från 2018 .\\nDel 3 - 4 av 9 . [\\n42626957 ] [ 27529537 ] 4 . 25 Weeds ( R ) Komediserie från 2011 .\\nDel 5 - 6 av 13 . [\\n12583570 ] [ 90345860 ] 5 . 20 - 6 . 00 Blum talk Komediserie från 2015 .',\n",
       " '16 . 00 Sofias änglar [ 492179 ] Svensk livsstilsserie från 2017 .\\nDel 1 av 13 .\\nÄven 22 / 1 .\\n17 . 00 Tunnelbanan [ 478599 ] ( R ) Svensk realityserie från 2016 .\\nDel 10 av 15 .\\nÄven 21 / 1 .',\n",
       " 'C More Series c \" ° r ?\\neesr ?\\neeses 6 . 05 dose up ( R ) Amerikansk porträttserie från 2014 .\\nDel 3 - 4 av 60 . [\\n53679529 ] 7 . 05 Parenthood Dramaserie från 2Ö10 .\\nDel 3 - 8 av 22 .\\nSarah blir avundsjuk när Amber börjar umgås mycket med sin nya kompis Kelsey .\\nJulia pratar med Joel om att skaffa ett till barn . [\\n32023179 ] [ 32028624 ] [ 90472266 ] [ 29809082 ] [ 78102266 ] [ 30199204 ] 11 . 15 dose up ( R ) Amerikanskt porträtt från 2014 .\\nDel 32 av 44 . [\\n90638112 ] 11 . 40 dose up ( R ) Amerikansk porträttserie från 2014 .\\nDel 60 av 60 . [\\n12182421 ] 12 . 10 Parenthood ( R ) Dramaserie från 2010 .\\nDel 3 - 8 av 22 . 1 \\' m cooler thån you think .\\nSarah blir avundsjuk när Amber börjar umgås mycket med sin nya kompis Kelsey .\\nJulia pratar med Joel om att skaffa ett till barn . [\\n27465060 ] [ 68302711 ] [ 94552421 ] [ 26557570 ] [ 62668150 ] [ 37989315 ] 16 . 20 dose up ( R ) Amerikanskt porträtt från 2014 .\\nDel 33 av 44 . [\\n69711334 ] 16 . 45 Parenthood ( R ) Dramaserie från 2010 .\\nDel 3 - 8 av 22 . 1 \\' m cooler thån you think .\\nSarah blir avundsjuk när Amber börjar umgås mycket med sin nya kompis Kelsey .\\nJulia pratar med Joel om att skaffa ett till barn . [\\n31081334 ] [ 93769686 ] [ 65577599 ] [ 57169773 ] [ 27477353 ] [ 67690131 ] 21 . 00 Svartenbrandt - Sveriges farligaste brottsling ( R ) Svensk dokumentärserie från 2017 .\\nDel 1 - 3 av 3 . [\\n60111082 ] [ 16269334 ] [ 85394044 ] 23 . 15 Wrong man ( R ) Amerikansk dokumentärserie från 2018 .\\nDel 1 - 6 av 6 .\\nNär en ung man skjuts ihjäl på öppen gata pekas 16 - årige Evaristo Salas ut av polisens källa och han döms mot sitt nekande . [\\n43243315 ] [ 23731483 ] [ 83802667 ] [ 52418700 ] [ 60437377 ] [ 30373280 ] 4 . 35 dose up ( R ) Amerikanskt porträtt från 2014 .\\nDel li av 44 . [\\n33353975 ] 5 . 05 - 6 . 05 dose up ( R ) Amerikansk porträttserie från 2014 .',\n",
       " '21 . 00 Aktuellt [ 54551 ] ( T ) 21 . 39 Kulturnyheterna [ 403884803 ] 21 . 46 Lokala nyheter [ 103880087 ] 21 . 56 Nyhetssammanfattning [ 107497445 ] ( T ) 22 . 00 Sportnytt [ 48272 ] 22 . 15 Ketanes - Tillsammans [ 627209 ] ( T ) Svensk musikserie från 2019 .\\nDel 3 av 6 .\\nPatricia är den skygga sångaren som har haft extrem scenskräck .\\nÄven 25 / 1 och 27 / 1 .',\n",
       " '6 . 00 Morgonstudion [ 47042919 ] ( T ) Nyhetsmagasin från 2019 .\\n9 . 10 Rederiet [ 5i5i984 ] ( T ) Svensk dramaserie från 1993 .\\nDel 4 av 12 .\\nLysande utsikter .\\nÄven 28 / 1 och senare i natt .\\n9 . 55 Vem vet mest ? [\\n2936174 ] ( T ) ( R ) Svensk frågesport från 2019 .\\nDel 2 av 20 .\\nÄven 24 / 1 och 26 / 1 .']"
      ]
     },
     "execution_count": 11,
     "metadata": {},
     "output_type": "execute_result"
    }
   ],
   "source": [
    "waste[:50]"
   ]
  },
  {
   "cell_type": "code",
   "execution_count": 12,
   "metadata": {},
   "outputs": [],
   "source": [
    "with open(\"/data/home/elena/Workspace/corpus_cleaning/removed.txt\", \"w\") as f:\n",
    "    for doc in waste:\n",
    "        f.write(doc+\"\\n\\n\")\n",
    "        \n",
    "with open(\"/data/home/elena/Workspace/corpus_cleaning/clean_text.txt\", \"w\") as f:\n",
    "    for doc in clean_docs:\n",
    "        f.write(doc+\"\\n\\n\")"
   ]
  },
  {
   "cell_type": "code",
   "execution_count": null,
   "metadata": {},
   "outputs": [],
   "source": []
  }
 ],
 "metadata": {
  "kernelspec": {
   "display_name": "Python 3",
   "language": "python",
   "name": "python3"
  },
  "language_info": {
   "codemirror_mode": {
    "name": "ipython",
    "version": 3
   },
   "file_extension": ".py",
   "mimetype": "text/x-python",
   "name": "python",
   "nbconvert_exporter": "python",
   "pygments_lexer": "ipython3",
   "version": "3.8.10"
  }
 },
 "nbformat": 4,
 "nbformat_minor": 4
}
