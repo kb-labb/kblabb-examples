{
 "cells": [
  {
   "cell_type": "markdown",
   "metadata": {},
   "source": [
    "# Extract only text from the front pages\n",
    "This scripts shows an example of how to extract only front page text from KB-labb's API, given a file containing the ID's of the relevant issues."
   ]
  },
  {
   "cell_type": "code",
   "execution_count": null,
   "metadata": {},
   "outputs": [],
   "source": [
    "from kblab import Archive\n",
    "from json import load\n",
    "import json\n",
    "import re"
   ]
  },
  {
   "cell_type": "code",
   "execution_count": null,
   "metadata": {},
   "outputs": [],
   "source": [
    "a = Archive('https://betalab.kb.se/', auth=('username', 'password'))"
   ]
  },
  {
   "cell_type": "code",
   "execution_count": null,
   "metadata": {},
   "outputs": [],
   "source": [
    "with open(\"dagens_nyheter_ids.txt\", \"r\") as f:\n",
    "    dark_ids = f.readlines()\n",
    "    \n",
    "for dark_id in dark_ids:\n",
    "    \n",
    "    entry = {}\n",
    "    p = a.get(dark_id.strip())\n",
    "    text = ''\n",
    "\n",
    "    for part in load(p.get_raw('content.json')):\n",
    "        part_id = part.get('@id', '')\n",
    "        page_nr = re.search(r\"(?<=#[0-9]-)[0-9]{1,2}\", part_id).group()\n",
    "        if page_nr == '1':\n",
    "            text = text + (part.get('content', ''))\n",
    "    entry['text'] = text\n",
    "            \n",
    "    # fetch date created from meta.json\n",
    "    # save date in entry['date'] \n",
    "    meta = json.load(p.get_raw('meta.json'))\n",
    "    entry['date'] = meta['created']\n",
    "    \n",
    "    entry['title'] = ''\n",
    "    with open(\"dagens_nyheter_data.ndjson\", 'a') as output:\n",
    "        json.dump(entry, output)\n",
    "        output.write('\\n')"
   ]
  },
  {
   "cell_type": "code",
   "execution_count": null,
   "metadata": {},
   "outputs": [],
   "source": []
  }
 ],
 "metadata": {
  "kernelspec": {
   "display_name": "Python 3",
   "language": "python",
   "name": "python3"
  },
  "language_info": {
   "codemirror_mode": {
    "name": "ipython",
    "version": 3
   },
   "file_extension": ".py",
   "mimetype": "text/x-python",
   "name": "python",
   "nbconvert_exporter": "python",
   "pygments_lexer": "ipython3",
   "version": "3.8.10"
  }
 },
 "nbformat": 4,
 "nbformat_minor": 4
}
