{
 "cells": [
  {
   "cell_type": "markdown",
   "metadata": {},
   "source": [
    "## Overview\n",
    "\n",
    "In this notebook we will showcase how to filter and select relevant packages based on for example title, creation date or tags. First, we show it's done using the [kblab](https://github.com/Kungbib/kblab) python package. Secondly we show how to manually do the same by constructing our own API calls and downloading the `meta.json` files of each package.  "
   ]
  },
  {
   "cell_type": "markdown",
   "metadata": {},
   "source": [
    "### Import kblab"
   ]
  },
  {
   "cell_type": "code",
   "execution_count": 1,
   "metadata": {},
   "outputs": [],
   "source": [
    "import kblab \n",
    "from kblab import Archive"
   ]
  },
  {
   "cell_type": "markdown",
   "metadata": {},
   "source": [
    "### Archive object\n",
    "\n",
    "In the `kblab` package an Archive object lets us iterate over all package ids in the database, or construct filters to iterate over a subset of them. \n",
    "\n",
    "Calling the API requires us to submit authentication details (username and password). A good practice to follow is to not write out the password inside of scripts and notebooks, but rather read it either from a text file or environment file stored elsewhere on the computer.  "
   ]
  },
  {
   "cell_type": "code",
   "execution_count": 8,
   "metadata": {},
   "outputs": [],
   "source": [
    "# Read password from .txt file containing only the password\n",
    "with open('/home/faton/projects/api_credentials.txt', 'r') as file:\n",
    "    pw = file.read().replace('\\n', '')"
   ]
  },
  {
   "cell_type": "markdown",
   "metadata": {},
   "source": [
    "Now create the archive object with authentication."
   ]
  },
  {
   "cell_type": "code",
   "execution_count": 9,
   "metadata": {},
   "outputs": [
    {
     "data": {
      "text/plain": [
       "<kblab.httparchive.HttpArchive at 0x7f4504f72160>"
      ]
     },
     "execution_count": 9,
     "metadata": {},
     "output_type": "execute_result"
    }
   ],
   "source": [
    "a = Archive(\"https://datalab.kb.se\", auth=(\"demo\", pw))\n",
    "a"
   ]
  },
  {
   "cell_type": "markdown",
   "metadata": {},
   "source": [
    "We can iterate over this object to get all package ids that exist in betalab.kb.se."
   ]
  },
  {
   "cell_type": "code",
   "execution_count": 4,
   "metadata": {},
   "outputs": [
    {
     "name": "stdout",
     "output_type": "stream",
     "text": [
      "796173\n"
     ]
    }
   ],
   "source": [
    "package_ids = [package_id for package_id in a]\n",
    "print(len(package_ids))"
   ]
  },
  {
   "cell_type": "code",
   "execution_count": 5,
   "metadata": {},
   "outputs": [
    {
     "data": {
      "text/plain": [
       "['sou-1922-10', 'sou-1922-1', 'sou-1922-11', 'sou-1922-12', 'sou-1922-13']"
      ]
     },
     "execution_count": 5,
     "metadata": {},
     "output_type": "execute_result"
    }
   ],
   "source": [
    "package_ids[0:5]"
   ]
  },
  {
   "cell_type": "markdown",
   "metadata": {},
   "source": [
    "### Filter package ids based on metadata\n",
    "\n",
    "To select only the package ids we are interested in, we can filter with the `.search()` method. \n",
    "\n",
    "For example, to select only packages relating to parlamentiary minutes (\"protokoll\") we can search on the `tag` \"protokoll\". This returns an generator that allows us to iterate over these specific package ids. We can see there are **13440** of these in betalab.kb.se. "
   ]
  },
  {
   "cell_type": "code",
   "execution_count": 6,
   "metadata": {},
   "outputs": [
    {
     "data": {
      "text/plain": [
       "Result(start=0, n=13440, m=13440, keys=<generator object HttpArchive._search_iter at 0x7fb951f31970>, hits=<list_iterator object at 0x7fb96024a6d0>)"
      ]
     },
     "execution_count": 6,
     "metadata": {},
     "output_type": "execute_result"
    }
   ],
   "source": [
    "a.search({\"tags\": \"protokoll\"})"
   ]
  },
  {
   "cell_type": "markdown",
   "metadata": {},
   "source": [
    "For this to be useful, we need to iterate over the generator and do something useful with the package ids. Below is once again a basic example of how to save the relevant package ids in a list."
   ]
  },
  {
   "cell_type": "code",
   "execution_count": 7,
   "metadata": {},
   "outputs": [],
   "source": [
    "protokoll_package_ids = []\n",
    "for package_id in a.search({\"tags\": \"protokoll\"}):\n",
    "    protokoll_package_ids.append(package_id)"
   ]
  },
  {
   "cell_type": "code",
   "execution_count": 8,
   "metadata": {},
   "outputs": [
    {
     "name": "stdout",
     "output_type": "stream",
     "text": [
      "Number of protokoll: 13440\n",
      "['prot-1972--146', 'prot-1972--147', 'prot-1972--31', 'prot-1972--27']\n"
     ]
    }
   ],
   "source": [
    "print(f\"Number of protokoll: {len(protokoll_package_ids)}\")\n",
    "print(protokoll_package_ids[0:4])"
   ]
  },
  {
   "cell_type": "markdown",
   "metadata": {},
   "source": [
    "Here are some additional examples of ways to filter content:\n",
    "\n",
    "-   **label** or **meta.title**: The title given to the package. Newspapers will for example have titles like \"AFTONBLADET 2003-08-02\". Not all package types have meaningful titles though.\n",
    "-   **tags**: The different type of tags can be found in the left panel when visiting betalab.kb.se. E.g. \"sou\", \"protokoll\", \"issue\" (newspapers). \n",
    "-   **content**: Search the text contents. Returns packages whose textual contents matched your search string.\n",
    "-   **meta.created**: Creation date or year\n",
    "\n",
    "Examples of each:"
   ]
  },
  {
   "cell_type": "code",
   "execution_count": 33,
   "metadata": {},
   "outputs": [
    {
     "data": {
      "text/plain": [
       "Result(start=0, n=305, m=305, keys=<generator object HttpArchive._search_iter at 0x7f4504e72580>, hits=<list_iterator object at 0x7f4504ed1d90>)"
      ]
     },
     "execution_count": 33,
     "metadata": {},
     "output_type": "execute_result"
    }
   ],
   "source": [
    "a.search({\"label\": \"AFTONBLADET\"}) # Same as a.search({\"meta.title\": \"AFTONBLADET\"})\n",
    "a.search({\"tags\": \"issue\"})\n",
    "a.search({\"content\": \"hunger\"})\n",
    "a.search({\"meta.created\": \"1888\"})\n",
    "a.search({'label: \"AFTONBLADET\" meta.created: \"1888\"'}) # Multiple criteria"
   ]
  },
  {
   "cell_type": "markdown",
   "metadata": {},
   "source": [
    "### Download data from filtered packages\n",
    "\n",
    "We can download data from the filtered packages. Most of the useful information relating to them have been assembled by us in three different `.json` files:\n",
    "\n",
    "-   **content.json** (returns json file with ids and contents of all segmented text/image boxes)\n",
    "-   **structure.json** (returns json file following hierarchical structure of how the data is organized. For newspapges e.g. it's organized in package, parts, pages, segmented boxes. Also contains contents, but nested hierarchically rather than in a flat file as is the case with content.json)\n",
    "-   **meta.json** (metadata associated with the package)"
   ]
  },
  {
   "cell_type": "markdown",
   "metadata": {},
   "source": [
    "### Approach #1: download data from list of package ids\n",
    "\n",
    "If you have extracted package ids the way we did for `protokoll_package_ids`, then you can use `kblab` package's built in methods to make a GET request."
   ]
  },
  {
   "cell_type": "code",
   "execution_count": 10,
   "metadata": {},
   "outputs": [],
   "source": [
    "package = a.get(protokoll_package_ids[0])"
   ]
  },
  {
   "cell_type": "markdown",
   "metadata": {},
   "source": [
    "Here, we download \"meta.json\" (if it exists inside package) and parse its contents."
   ]
  },
  {
   "cell_type": "code",
   "execution_count": 11,
   "metadata": {},
   "outputs": [],
   "source": [
    "import json\n",
    "if \"meta.json\" in package:\n",
    "    meta_raw = package.get_raw(\"meta.json\")\n",
    "    meta_json = json.load(meta_raw)"
   ]
  },
  {
   "cell_type": "code",
   "execution_count": 12,
   "metadata": {},
   "outputs": [
    {
     "name": "stdout",
     "output_type": "stream",
     "text": [
      "<urllib3.response.HTTPResponse object at 0x7fb96024ec40>\n",
      "{'title': 'prot 1972::146', 'year': '1972', 'created': '1972'}\n"
     ]
    }
   ],
   "source": [
    "print(meta_raw)\n",
    "print(meta_json)"
   ]
  },
  {
   "cell_type": "markdown",
   "metadata": {},
   "source": [
    "### Approach #2: Download data while iterating over generator\n",
    "\n",
    "Another way, and the way described in `kblab` documentation is to do everything on the fly in one step."
   ]
  },
  {
   "cell_type": "code",
   "execution_count": 34,
   "metadata": {},
   "outputs": [
    {
     "name": "stdout",
     "output_type": "stream",
     "text": [
      "{'title': 'prot 1972::146', 'year': '1972', 'created': '1972'}\n"
     ]
    }
   ],
   "source": [
    "meta_json_list = []\n",
    "for package_id in a.search({\"tags\": \"protokoll\"}, max=5):\n",
    "    package = a.get(package_id)\n",
    "\n",
    "    if \"meta.json\" in package:\n",
    "        meta_json = json.load(package.get_raw(\"meta.json\"))\n",
    "        meta_json_list.append(meta_json)\n",
    "\n",
    "print(meta_json_list[0])"
   ]
  },
  {
   "cell_type": "markdown",
   "metadata": {},
   "source": [
    "### Getting a dump of content\n",
    "\n",
    "One simple way of getting out a dump of the text and structure contents is by using `kblab` package's built in `flerge()` function. "
   ]
  },
  {
   "cell_type": "code",
   "execution_count": 25,
   "metadata": {},
   "outputs": [],
   "source": [
    "from kblab.utils import flerge\n",
    "\n",
    "package = a.get(package_ids[0])\n",
    "res = flerge(package)"
   ]
  },
  {
   "cell_type": "code",
   "execution_count": 35,
   "metadata": {},
   "outputs": [
    {
     "name": "stdout",
     "output_type": "stream",
     "text": [
      "Length of output: 928\n",
      "{'@id': 'https://betalab.kb.se/sou-1922-10#1-1-cblock_0-block_0', '@type': 'Text', 'box': ['209', '167', '1214', '68'], 'has_representation': ['https://betalab.kb.se/sou-1922-10/SOU_1922_10-000.xml', 'https://betalab.kb.se/sou-1922-10/SOU_1922_10-000.jp2'], 'height': '2561', 'label': 'SOU 1922:10', 'meta': {'title': 'Om lappskattelandsinstitutet och dess historiska utveckling [Elektronisk resurs]', 'year': '1922', 'created': '1922', 'seriesEnumeration': 'SOU 1922:10'}, 'path': [{'@id': 'https://betalab.kb.se/sou-1922-10/', '@type': 'Package'}, {'@id': 'https://betalab.kb.se/sou-1922-10#1', '@type': 'Part'}, {'@id': 'https://betalab.kb.se/sou-1922-10#1-1', '@type': 'Page'}, {'@id': 'https://betalab.kb.se/sou-1922-10#1-1-cblock_0', '@type': 'Area'}], 'tags': ['SOU'], 'width': '1807', 'content': ['STATENS OFFENTLIGA UTREDNINGAR 1922:10\\n']}\n"
     ]
    }
   ],
   "source": [
    "print(f\"Length of output: {len(res)}\")\n",
    "print(res[0])"
   ]
  },
  {
   "cell_type": "markdown",
   "metadata": {},
   "source": [
    "## Write custom API calls using requests package\n",
    "\n",
    "Alternatively, one may construct their own API requests, e.g. via the python package `requests`. This assumes we have access to a list of package ids already (usually this part involves using `kblab` package and its archive object). "
   ]
  },
  {
   "cell_type": "code",
   "execution_count": 55,
   "metadata": {},
   "outputs": [
    {
     "data": {
      "text/plain": [
       "{'title': 'Några iakttagelser från 1921 års riksdagsmannaval [Elektronisk resurs]',\n",
       " 'year': '1922',\n",
       " 'created': '1922',\n",
       " 'seriesEnumeration': 'SOU 1922:1'}"
      ]
     },
     "execution_count": 55,
     "metadata": {},
     "output_type": "execute_result"
    }
   ],
   "source": [
    "import requests\n",
    "from requests.auth import HTTPBasicAuth\n",
    "\n",
    "package_id = package_ids[1]\n",
    "\n",
    "meta_raw = requests.get(f\"https://betalab.kb.se/{package_id}/meta.json\", auth=HTTPBasicAuth(\"demo\", pw))\n",
    "\n",
    "if meta_raw.status_code == 200:\n",
    "    meta_json = json.loads(meta_raw.text)\n",
    "\n",
    "meta_json"
   ]
  },
  {
   "cell_type": "markdown",
   "metadata": {},
   "source": [
    "### Parallelize"
   ]
  }
 ],
 "metadata": {
  "kernelspec": {
   "display_name": "pytorchenv",
   "language": "python",
   "name": "python3"
  },
  "language_info": {
   "codemirror_mode": {
    "name": "ipython",
    "version": 3
   },
   "file_extension": ".py",
   "mimetype": "text/x-python",
   "name": "python",
   "nbconvert_exporter": "python",
   "pygments_lexer": "ipython3",
   "version": "3.8.12"
  },
  "orig_nbformat": 4,
  "vscode": {
   "interpreter": {
    "hash": "eccfe1d5c237a5e4b2d65a71fc1d947bba9ab9dac0f780e7be96d00dc5a70125"
   }
  }
 },
 "nbformat": 4,
 "nbformat_minor": 2
}
